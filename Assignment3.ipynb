{
 "cells": [
  {
   "cell_type": "markdown",
   "id": "0a3d018c",
   "metadata": {},
   "source": [
    "# Applied Stochastic Processes: Mini Assignment III\n",
    "\n",
    "## Part I - Theory\n",
    "Patients arrive in a hospital unit according to a Poisson process with a rate of 1 client every 48 hours.\n",
    "The time needed for the patients to be treated and dismissed is exponentially distributed with a mean of 72 hours,\n",
    "independently of the other patients. The hospital unit can accommodate a maximum of 4 patients.\n",
    "When the unit is full (i.e., when 4 patients are already being treated), new patients are turned to other hospitals.\n"
   ]
  },
  {
   "cell_type": "markdown",
   "id": "ccdc7e9f",
   "metadata": {},
   "source": [
    "## Question 1\n",
    "Consider a hospital unit where patients arrive according to a Poisson process with a rate $\\lambda = \\frac{1}{48}$ per hour (since patients arrive every 48 hours). The service times for the patients are exponentially distributed with a mean of 72 hours, which corresponds to a service rate of $\\mu = \\frac{1}{72}$ per hour.\n",
    "\n",
    "### State Space \n",
    "The state space $S$ of the CTMC, defined as the number of patients in the hospital unit, is given by:\n",
    "$$ S = \\{0, 1, 2, 3, 4\\} $$\n",
    "where the state $i$ represents that there are $i$ patients currently in the hospital unit.\n",
    "\n",
    "### Transition Rates\n",
    "The transitions of this CTMC can occur due to the arrival of a new patient or the service completion and discharge of a current patient. The transition rates are defined as follows:\n",
    "\n",
    "- From state $i$ to $i+1$ (arrival of a new patient), the rate is $\\lambda$ for $i = 0, 1, 2, 3$. No arrivals are possible at state 4 due to the unit capacity limit.\n",
    "- From state $i$ to $i-1$ (departure of a patient), the rate is $i \\mu$ for $i = 1, 2, 3, 4$. There are no departures from state 0.\n",
    "\n",
    "\n",
    "### Transition Probability Matrix\n",
    "The transition probability to go from state i to state j are:\n",
    "\n",
    "$$\n",
    "P_{ij} = \n",
    "\\begin{cases}\n",
    "\\frac{\\lambda_i}{\\lambda_i + \\mu_i} & \\text{if } j = i + 1 \\\\\n",
    "\\frac{\\mu_i}{\\lambda_i + \\mu_i} & \\text{if } j = i - 1 \\\\\n",
    "0 & \\text{otherwise}\n",
    "\\end{cases}\n",
    "$$\n",
    "\n"
   ]
  },
  {
   "cell_type": "markdown",
   "id": "2c79c51f",
   "metadata": {},
   "source": [
    "## Question 2\n",
    "\n",
    "The system described indeed behaves as a birth and death process. A birth and death process is characterized by states where transitions between state $i$ and state $i+1$ represent births (arrivals) and transitions between state $i$ and state $i-1$ represent deaths (departures). Here’s how the process fits this model:\n",
    "\n",
    "- Birth Rates (Arrivals): The arrival of patients to the hospital unit follows a Poisson process, which fits the birth characteristic of the process:\n",
    "  - For states $i = 0, 1, 2, 3$, the arrival rate is $\\lambda = \\frac{1}{48} \\text{ per hour}$.\n",
    "  - At state $4$, the unit reaches its capacity, and no further arrivals can increase the state, which sets the birth rate from state $4$ as $\\lambda_4 = 0$.\n",
    "\n",
    "- Death Rates (Departures): Patients are treated and discharged independently, following an exponential distribution, which fits the death characteristic:\n",
    "  - From state $i$, the departure rate is $\\mu$ where $\\mu = \\frac{1}{72} \\text{ per hour}$\n",
    "  - The departure rate from state $0$ $\\mu_0$ is $0$ since there are no patients to discharge."
   ]
  },
  {
   "cell_type": "markdown",
   "id": "85a42afd",
   "metadata": {},
   "source": [
    "## Question 3\n",
    "\n",
    "To determine the long-run proportion of time the hospital unit is empty, we analyze the steady-state probabilities of the CTMC. The hospital unit is empty when it is in state $0$. \n",
    "\n",
    "To find this proportion, we set up the balance equations based on the birth and death rates specified:\n",
    "\n",
    "- The rate out of state $0$ (birth rate) is $\\lambda = \\frac{1}{48}$.\n",
    "- There is no rate into state $0$ since it is the lowest state (no deaths into state $0$).\n",
    "\n",
    "The balance equation for state $0$ is given by:\n",
    "$$\n",
    "\\pi_0 \\lambda_0 = \\pi_1 \\mu_1\n",
    "$$\n",
    "where $\\pi_0$ is the steady-state probability of the unit being empty and $\\pi_1$ is the steady-state probability of having one patient. \n",
    "\n",
    "For a birth and death process, the general form of the steady-state distribution $\\pi_i$ can be calculated recursively from the balance equations as:\n",
    "$$\n",
    "\\pi_i = \\pi_0 \\prod_{k=1}^i \\frac{\\lambda_{k-1}}{\\mu_k}\n",
    "$$\n",
    "where $\\lambda_{k-1}$ is the arrival rate to state $k-1$ and $\\mu_k = \\mu * k$ is the departure rate from state $k$. Specifically, for state $1$, this becomes:\n",
    "$$\n",
    "\\pi_1 = \\pi_0 \\frac{\\lambda_0}{\\mu_1} = \\pi_0 \\frac{\\frac{1}{48}}{\\frac{1}{72}} = \\pi_0 \\frac{72}{48} = \\pi_0 \\frac{3}{2}\n",
    "$$\n",
    "\n",
    "Solving for $\\pi_0$ yields:\n",
    "$$\n",
    "\\pi_0 = \\frac{1}{1 + \\frac{3}{2} + \\frac{9}{8} + \\frac{9}{16} + \\frac{27}{128}} = 0.2274\n",
    "$$\n",
    "\n",
    "The denominator sums the geometric series representing the weighted sum of staying probabilities in each state, from $0$ up to $4$, with the weights determined by the ratio of birth to death rates.\n",
    "\n",
    "Thus, $\\pi_0$ gives us the long-run proportion of time that the hospital unit is empty.\n"
   ]
  },
  {
   "cell_type": "markdown",
   "id": "571580ec",
   "metadata": {},
   "source": [
    "## Question 4\n",
    "\n",
    "To determine the long-run average number of patients in the hospital unit, we use the steady-state probabilities of each state within the system. The average number of patients, denoted as $E[X]$, is computed as the sum of the products of each state and its corresponding steady-state probability:\n",
    "\n",
    "$$\n",
    "E[X] = \\sum_{i=0}^4 i \\pi_i\n",
    "$$\n",
    "\n",
    "Where:\n",
    "- $i$ represents the number of patients (state).\n",
    "- $\\pi_i$ represents the steady-state probability of having $i$ patients.\n",
    "\n",
    "Assuming the steady-state probabilities have been calculated or derived from the balance equations as shown in Question 3, we can express $E[X]$ in terms of these probabilities:\n",
    "\n",
    "$$\n",
    "E[X] = 0 \\cdot \\pi_0 + 1 \\cdot \\pi_1 + 2 \\cdot \\pi_2 + 3 \\cdot \\pi_3 + 4 \\cdot \\pi_4 = 1.4283\n",
    "$$\n",
    "\n",
    "Where:\n",
    "- $\\pi_0$ is the steady-state probability of the unit being empty.\n",
    "- $\\pi_1, \\pi_2, \\pi_3, \\pi_4$ are the probabilities of having 1, 2, 3, and 4 patients, respectively:\n",
    "\n",
    "$$\n",
    "\\pi_1 = \\pi_0 * \\frac{3}{2} = 0.3410\n",
    "$$\n",
    "$$\n",
    "\\pi_2 = \\pi_1 * \\frac{9}{8} = 0.2558\n",
    "$$\n",
    "$$\n",
    "\\pi_3 = \\pi_2 * \\frac{9}{16} = 0.1279\n",
    "$$\n",
    "$$\n",
    "\\pi_4 = \\pi_3 * \\frac{27}{128} = 0.0480\n",
    "$$\n",
    "\n"
   ]
  },
  {
   "cell_type": "markdown",
   "id": "6d44c7b8",
   "metadata": {},
   "source": [
    "## Question 5\n",
    "\n",
    "The steady state probability $\\pi_4$ effectively represents the proportion of time the hospital unit is full and consequently the proportion of arriving patients who must be turned away because there is no free capacity. Since new patients arrive at a constant rate and the process is memoryless, the fraction of time the system is in state $4$ directly translates to the fraction of total arriving patients that are turned away.\n",
    "\n",
    "$$\n",
    "\\text{Proportion Turned Away} = \\pi_4 = 0.048\n",
    "$$\n"
   ]
  },
  {
   "cell_type": "markdown",
   "id": "35218765",
   "metadata": {},
   "source": [
    "## Part II - Simulation\n",
    "Assuming analytical solutions from Part I are difficult or tedious to find, simulate the process instead to estimate the desired metrics.\n"
   ]
  },
  {
   "cell_type": "markdown",
   "id": "12935222",
   "metadata": {},
   "source": [
    "## Question 1"
   ]
  },
  {
   "cell_type": "code",
   "execution_count": 7,
   "id": "6bca2d61",
   "metadata": {},
   "outputs": [
    {
     "name": "stdout",
     "output_type": "stream",
     "text": [
      "Jump times: [0, 137.68639463796904, 153.302597559367, 157.32399645135757, 185.43233001832095, 228.07144273017678, 268.2003127915917, 293.68753801279587, 324.90228402508353, 325.49445027562615, 325.5554704479495, 333.53448295083507, 366.38077763964884, 386.6232689961202, 398.42988078372525, 415.78053203019596, 440.3724705969103, 445.28093875393546, 470.3595785088083, 499.7869478005907, 537.7538536076834, 548.4425035232557, 556.4546205709969, 560.2632707006952, 579.7450614585472, 593.0769952750526, 599.176984589117, 635.3498204473059, 643.1067089143403, 661.8451514635046, 701.0914171608722, 709.9221798914376, 774.8590266198045, 878.4650430745569, 957.56381470883, 968.0313932998748, 1039.9474694597257, 1053.3757154396756, 1054.0578394861222, 1067.2630183150443, 1110.8826682847418, 1117.7701682058303, 1137.9298768857454, 1167.3067226866158, 1184.203221689604, 1221.6436345456302, 1224.2002617207133, 1273.1385776108245, 1285.725804242268, 1326.0164909590353, 1388.055617416761, 1426.7093455769145, 1437.957033449941, 1469.3936162993975, 1486.916436326333, 1507.898261482023, 1509.891896923293, 1654.3249912899503, 1670.4417596426192, 1672.0511867435443, 1713.660157694395, 1783.8281288256335, 1806.5567748854046, 1817.3622886520657, 1827.6836737172832, 1842.7410346826591, 1880.8807115391087, 1883.0047912195764, 1883.1905397448252, 1905.15192164608, 1908.2432612131151, 1997.9662659639025, 2057.9936072125406, 2062.3168301395544, 2077.601194428834, 2156.090136414238, 2245.4410450428504, 2256.4025773704716, 2257.9069788131214, 2265.1824268161045, 2281.801582565424, 2295.204332030043, 2342.4761501763014, 2416.716147592032, 2439.108254559684, 2444.1374828010585, 2445.3224198892567, 2467.0111761558755, 2494.253889415757, 2537.87364382069, 2547.945675468992, 2556.3647411950037, 2557.8469735620997, 2561.7488030722106, 2578.1255219301147, 2605.880626919544, 2624.706027738457, 2639.6414688437067, 2670.4775457277324, 2670.992101030182]\n",
      "States at each jump: [0, 1, 2, 1, 2, 3, 2, 3, 4, 3, 4, 3, 2, 3, 4, 3, 2, 1, 0, 1, 0, 1, 2, 3, 4, 3, 2, 1, 2, 3, 2, 1, 0, 1, 0, 1, 0, 1, 2, 1, 2, 1, 0, 1, 2, 1, 0, 1, 0, 1, 2, 1, 2, 1, 2, 1, 0, 1, 0, 1, 0, 1, 2, 3, 2, 1, 2, 1, 0, 1, 0, 1, 2, 1, 0, 1, 0, 1, 2, 1, 2, 1, 0, 1, 2, 1, 2, 3, 4, 3, 2, 1, 2, 1, 2, 3, 4, 3, 2, 3]\n",
      "Inter-arrival times: [137.68639463796904, 15.616202921397958, 28.108333566963374, 42.639112711855816, 25.487225221204135, 31.214746012287662, 0.061020172323375504, 20.242491356471383, 11.806611787605078, 29.427369291782448, 10.688649915572348, 8.012117047741189, 3.808650129698311, 19.481790757851986, 7.756888467034429, 18.738442549164397, 103.60601645475248, 10.467578591044841, 13.42824597994995, 0.6821240464466042, 43.61964996969754, 29.37684580087044, 16.896499002988282, 48.9383158901113, 40.29068671676736, 62.03912645772566, 11.2476878730264, 17.522820026935527, 144.43309436665737, 1.6094271009252004, 70.16797113123855, 22.728646059771194, 10.80551376666105, 38.1396768564496, 21.961381901254715, 89.72300475078737, 60.027341248638116, 78.48894198540387, 10.961532327621338, 1.5044014426496886, 16.619155749319248, 74.23999741573076, 22.392106967652147, 1.184937088198112, 21.68875626661862, 27.242713259881526, 1.482232367096031, 16.376718857903956, 27.755104989429064, 18.825400818913195, 0.5145553024493712]\n"
     ]
    }
   ],
   "source": [
    "import numpy as np\n",
    "\n",
    "# Parameters\n",
    "lambda_arrival = 1/48  # Arrival rate per hour\n",
    "mu_service = 1/72      # Service rate per hour\n",
    "N = 100                # Number of jumps to simulate\n",
    "max_patients = 4       # Maximum number of patients the unit can accommodate\n",
    "\n",
    "# State initialization\n",
    "current_state = 0\n",
    "states = [current_state]  # To keep track of states\n",
    "jump_times = [0]          # To record times at each jump\n",
    "inter_arrival_times = []  # To store inter-arrival times\n",
    "# Simulation\n",
    "for i in range(1, N):\n",
    "    \n",
    "    arrival_time = np.random.exponential(1/lambda_arrival)\n",
    "    \n",
    "    if current_state > 0:\n",
    "        # There are patients to be serviced\n",
    "        service_time = np.random.exponential(1/(mu_service * current_state))\n",
    "    else:\n",
    "        # No patients to service\n",
    "        service_time = np.inf  # Infinite time until next service (no services)\n",
    "\n",
    "\n",
    "    # Find next event time\n",
    "    if arrival_time < service_time:\n",
    "        if current_state < max_patients:\n",
    "            next_time = arrival_time\n",
    "            current_state += 1  # New patient arrives\n",
    "            event_type = 'arrival'\n",
    "        else:\n",
    "            next_time = arrival_time\n",
    "            # We don't increase the current state as we are at full capacity\n",
    "            event_type = 'arrival'\n",
    "    else:\n",
    "        next_time = service_time\n",
    "        current_state -= 1  # A patient is serviced and leaves\n",
    "        event_type = 'departure'\n",
    "\n",
    "    # Record the results even is the state remains at 4\n",
    "    jump_times.append(jump_times[-1] + next_time)\n",
    "    states.append(current_state)\n",
    "    if event_type == 'arrival':\n",
    "        inter_arrival_times.append(next_time)\n",
    "\n",
    "# Display results\n",
    "print(\"Jump times:\", jump_times)\n",
    "print(\"States at each jump:\", states)\n",
    "print(\"Inter-arrival times:\", inter_arrival_times)"
   ]
  },
  {
   "cell_type": "markdown",
   "id": "1f0f6cd2",
   "metadata": {},
   "source": [
    "## Question 2"
   ]
  },
  {
   "cell_type": "code",
   "execution_count": 8,
   "id": "27ea2402",
   "metadata": {},
   "outputs": [
    {
     "data": {
      "image/png": "[encoded data removed]",
      "text/plain": [
       "<Figure size 1200x600 with 1 Axes>"
      ]
     },
     "metadata": {},
     "output_type": "display_data"
    }
   ],
   "source": [
    "import matplotlib.pyplot as plt\n",
    "\n",
    "plt.figure(figsize=(12, 6))\n",
    "plt.step(jump_times, states, where='post', label='Number of Patients', linewidth=2)\n",
    "plt.xlabel('Time (hours)', fontsize=12)\n",
    "plt.ylabel('Number of Patients in Hospital', fontsize=12)\n",
    "plt.title('Typical Trajectory of the Hospital Unit Patient Count', fontsize=14)\n",
    "plt.grid(True)\n",
    "plt.axhline(y=max_patients, color='r', linestyle='--', label='Capacity Limit')\n",
    "plt.legend()\n",
    "plt.show()\n"
   ]
  },
  {
   "cell_type": "markdown",
   "id": "e02ce78e",
   "metadata": {},
   "source": [
    "## Question 3\n"
   ]
  },
  {
   "cell_type": "code",
   "execution_count": 3,
   "id": "4b11b3aa",
   "metadata": {},
   "outputs": [],
   "source": [
    "# Re-run with higher N\n",
    "N = 1000000\n",
    "\n",
    "# State initialization\n",
    "current_state = 0\n",
    "states = [current_state]  # To keep track of states\n",
    "jump_times = [0]          # To record times at each jump\n",
    "inter_arrival_times = []  # To store inter-arrival times\n",
    "# Simulation\n",
    "for i in range(1, N):\n",
    "    \n",
    "    arrival_time = np.random.exponential(1/lambda_arrival)\n",
    "    \n",
    "    if current_state > 0:\n",
    "        # There are patients to be serviced\n",
    "        service_time = np.random.exponential(1/(mu_service * current_state))\n",
    "    else:\n",
    "        # No patients to service\n",
    "        service_time = np.inf  # Infinite time until next service (no services)\n",
    "\n",
    "\n",
    "    # Find next event time\n",
    "    if arrival_time < service_time:\n",
    "        if current_state < max_patients:\n",
    "            next_time = arrival_time\n",
    "            current_state += 1  # New patient arrives\n",
    "            event_type = 'arrival'\n",
    "        else:\n",
    "            next_time = arrival_time\n",
    "            # We don't increase the current state as we are at full capacity\n",
    "            event_type = 'arrival'\n",
    "    else:\n",
    "        next_time = service_time\n",
    "        current_state -= 1  # A patient is serviced and leaves\n",
    "        event_type = 'departure'\n",
    "\n",
    "    # Record the results even is the state remains at 4\n",
    "    jump_times.append(jump_times[-1] + next_time)\n",
    "    states.append(current_state)\n",
    "    if event_type == 'arrival':\n",
    "        inter_arrival_times.append(next_time)"
   ]
  },
  {
   "cell_type": "code",
   "execution_count": 4,
   "id": "8a4f73f9",
   "metadata": {},
   "outputs": [
    {
     "name": "stdout",
     "output_type": "stream",
     "text": [
      "Proportion of time the hospital unit is empty: 0.2285\n",
      "Theoretical proportion of time the hospital unit is empty: 0.2274\n",
      "Difference between simulated and theoretical proportions: 0.0011\n"
     ]
    }
   ],
   "source": [
    "# Calculate the proportion of time the hospital unit is empty\n",
    "empty_times = [jump_times[i+1] - jump_times[i] for i in range(len(jump_times)-1) if states[i] == 0]\n",
    "total_time = jump_times[-1] - jump_times[0]\n",
    "proportion_empty = sum(empty_times) / total_time\n",
    "\n",
    "# Print the proportion of time the unit is empty\n",
    "print(f\"Proportion of time the hospital unit is empty: {proportion_empty:.4f}\")\n",
    "\n",
    "# Compare with theoretical value from Part I, Question 3 \n",
    "theoretical_empty = 0.2274\n",
    "print(f\"Theoretical proportion of time the hospital unit is empty: {theoretical_empty:.4f}\")\n",
    "print(f\"Difference between simulated and theoretical proportions: {abs(proportion_empty - theoretical_empty):.4f}\")"
   ]
  },
  {
   "cell_type": "markdown",
   "id": "9e2a54ce",
   "metadata": {},
   "source": [
    "## Question 4\n"
   ]
  },
  {
   "cell_type": "code",
   "execution_count": 5,
   "id": "7aa33f6d",
   "metadata": {},
   "outputs": [
    {
     "name": "stdout",
     "output_type": "stream",
     "text": [
      "Estimated average number of patients in the hospital unit: 1.4250\n",
      "Theoretical average number of patients in the hospital unit: 1.4283\n",
      "Difference between simulated and theoretical averages: 0.0033\n"
     ]
    }
   ],
   "source": [
    "# Calculate the average number of patients using the time-weighted average method\n",
    "weighted_patient_counts = [(jump_times[i+1] - jump_times[i]) * states[i] for i in range(len(jump_times)-1)]\n",
    "total_time = jump_times[-1] - jump_times[0]\n",
    "average_patients = sum(weighted_patient_counts) / total_time\n",
    "\n",
    "# Print the estimated average number of patients\n",
    "print(f\"Estimated average number of patients in the hospital unit: {average_patients:.4f}\")\n",
    "\n",
    "# Compare with theoretical value from Part I, Question 4 \n",
    "theoretical_average = 1.4283  \n",
    "print(f\"Theoretical average number of patients in the hospital unit: {theoretical_average:.4f}\")\n",
    "print(f\"Difference between simulated and theoretical averages: {abs(average_patients - theoretical_average):.4f}\")"
   ]
  },
  {
   "cell_type": "markdown",
   "id": "e1039909",
   "metadata": {},
   "source": [
    "## Question 5"
   ]
  },
  {
   "cell_type": "code",
   "execution_count": 6,
   "id": "df84ebb9",
   "metadata": {},
   "outputs": [
    {
     "name": "stdout",
     "output_type": "stream",
     "text": [
      "Estimated proportion of patients turned away: 0.0482\n",
      "Theoretical proportion of patients turned away: 0.0480\n",
      "Difference between simulated and theoretical proportions: 0.0002\n"
     ]
    }
   ],
   "source": [
    "# Calculate the number of turned away patients\n",
    "turned_away_count = sum(1 for i in range(len(states)-1) if states[i] == max_patients and states[i+1] == max_patients)\n",
    "\n",
    "# Calculate the total number of arrival attempts\n",
    "total_arrivals = len([time for time in inter_arrival_times])\n",
    "\n",
    "# Calculate the proportion of turned away patients\n",
    "proportion_turned_away = turned_away_count / total_arrivals\n",
    "\n",
    "# Print the estimated proportion of turned away patients\n",
    "print(f\"Estimated proportion of patients turned away: {proportion_turned_away:.4f}\")\n",
    "\n",
    "# Compare with theoretical value from Part I, Question 5\n",
    "theoretical_turned_away = 0.0480  \n",
    "print(f\"Theoretical proportion of patients turned away: {theoretical_turned_away:.4f}\")\n",
    "print(f\"Difference between simulated and theoretical proportions: {abs(proportion_turned_away - theoretical_turned_away):.4f}\")"
   ]
  }
 ],
 "metadata": {
  "kernelspec": {
   "display_name": "Python 3",
   "language": "python",
   "name": "python3"
  },
  "language_info": {
   "codemirror_mode": {
    "name": "ipython",
    "version": 3
   },
   "file_extension": ".py",
   "mimetype": "text/x-python",
   "name": "python",
   "nbconvert_exporter": "python",
   "pygments_lexer": "ipython3",
   "version": "3.12.2"
  }
 },
 "nbformat": 4,
 "nbformat_minor": 5
}
